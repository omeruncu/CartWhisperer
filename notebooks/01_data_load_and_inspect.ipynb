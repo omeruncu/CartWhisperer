{
 "cells": [
  {
   "cell_type": "markdown",
   "id": "4b47aef5-71c7-42c7-8c0d-cb61fbe91b1b",
   "metadata": {},
   "source": [
    "# 📊 Data Load & Initial Inspection\n",
    "\n",
    "In this notebook, we load the data from the “Year 2010-2011” page using the `load_raw_retail_data` function in `src/data_loader.py` and perform basic inspections."
   ]
  },
  {
   "cell_type": "code",
   "execution_count": 1,
   "id": "6b783075-18a8-497d-abb1-2a330dc17666",
   "metadata": {},
   "outputs": [],
   "source": [
    "import sys\n",
    "from pathlib import Path"
   ]
  },
  {
   "cell_type": "code",
   "execution_count": 2,
   "id": "a85cbb64-9074-4bed-93f8-9c2c3cc76a8b",
   "metadata": {},
   "outputs": [],
   "source": [
    "ROOT = Path.cwd().parent\n",
    "sys.path.append(str(ROOT))"
   ]
  },
  {
   "cell_type": "code",
   "execution_count": 3,
   "id": "b698c791-3d27-4ff3-9d27-9ae78f120aff",
   "metadata": {},
   "outputs": [],
   "source": [
    "import pandas as pd\n",
    "import seaborn as sns\n",
    "from src.data_loader import load_raw_retail_data"
   ]
  },
  {
   "cell_type": "code",
   "execution_count": 4,
   "id": "079a2c87-7198-4801-a3d2-07c764cb766e",
   "metadata": {},
   "outputs": [],
   "source": [
    "df_raw = load_raw_retail_data(\n",
    "    file_path=str(ROOT/\"data\"/\"online_retail_II.xlsx\"),\n",
    "    sheet_name=\"Year 2010-2011\"\n",
    ")"
   ]
  },
  {
   "cell_type": "code",
   "execution_count": 5,
   "id": "12da6c58-441b-4bc5-8a7f-ee6a1a3ae36a",
   "metadata": {},
   "outputs": [],
   "source": [
    "df = df_raw"
   ]
  },
  {
   "cell_type": "code",
   "execution_count": 6,
   "id": "4e1d0812-a51e-4397-b387-a1152901a173",
   "metadata": {},
   "outputs": [
    {
     "data": {
      "text/html": [
       "<div>\n",
       "<style scoped>\n",
       "    .dataframe tbody tr th:only-of-type {\n",
       "        vertical-align: middle;\n",
       "    }\n",
       "\n",
       "    .dataframe tbody tr th {\n",
       "        vertical-align: top;\n",
       "    }\n",
       "\n",
       "    .dataframe thead th {\n",
       "        text-align: right;\n",
       "    }\n",
       "</style>\n",
       "<table border=\"1\" class=\"dataframe\">\n",
       "  <thead>\n",
       "    <tr style=\"text-align: right;\">\n",
       "      <th></th>\n",
       "      <th>invoice</th>\n",
       "      <th>stockcode</th>\n",
       "      <th>description</th>\n",
       "      <th>quantity</th>\n",
       "      <th>invoicedate</th>\n",
       "      <th>price</th>\n",
       "      <th>customer_id</th>\n",
       "      <th>country</th>\n",
       "    </tr>\n",
       "  </thead>\n",
       "  <tbody>\n",
       "    <tr>\n",
       "      <th>0</th>\n",
       "      <td>536365</td>\n",
       "      <td>85123A</td>\n",
       "      <td>WHITE HANGING HEART T-LIGHT HOLDER</td>\n",
       "      <td>6</td>\n",
       "      <td>2010-12-01 08:26:00</td>\n",
       "      <td>2.55</td>\n",
       "      <td>17850.0</td>\n",
       "      <td>United Kingdom</td>\n",
       "    </tr>\n",
       "    <tr>\n",
       "      <th>1</th>\n",
       "      <td>536365</td>\n",
       "      <td>71053</td>\n",
       "      <td>WHITE METAL LANTERN</td>\n",
       "      <td>6</td>\n",
       "      <td>2010-12-01 08:26:00</td>\n",
       "      <td>3.39</td>\n",
       "      <td>17850.0</td>\n",
       "      <td>United Kingdom</td>\n",
       "    </tr>\n",
       "    <tr>\n",
       "      <th>2</th>\n",
       "      <td>536365</td>\n",
       "      <td>84406B</td>\n",
       "      <td>CREAM CUPID HEARTS COAT HANGER</td>\n",
       "      <td>8</td>\n",
       "      <td>2010-12-01 08:26:00</td>\n",
       "      <td>2.75</td>\n",
       "      <td>17850.0</td>\n",
       "      <td>United Kingdom</td>\n",
       "    </tr>\n",
       "    <tr>\n",
       "      <th>3</th>\n",
       "      <td>536365</td>\n",
       "      <td>84029G</td>\n",
       "      <td>KNITTED UNION FLAG HOT WATER BOTTLE</td>\n",
       "      <td>6</td>\n",
       "      <td>2010-12-01 08:26:00</td>\n",
       "      <td>3.39</td>\n",
       "      <td>17850.0</td>\n",
       "      <td>United Kingdom</td>\n",
       "    </tr>\n",
       "    <tr>\n",
       "      <th>4</th>\n",
       "      <td>536365</td>\n",
       "      <td>84029E</td>\n",
       "      <td>RED WOOLLY HOTTIE WHITE HEART.</td>\n",
       "      <td>6</td>\n",
       "      <td>2010-12-01 08:26:00</td>\n",
       "      <td>3.39</td>\n",
       "      <td>17850.0</td>\n",
       "      <td>United Kingdom</td>\n",
       "    </tr>\n",
       "  </tbody>\n",
       "</table>\n",
       "</div>"
      ],
      "text/plain": [
       "  invoice stockcode                          description  quantity  \\\n",
       "0  536365    85123A   WHITE HANGING HEART T-LIGHT HOLDER         6   \n",
       "1  536365     71053                  WHITE METAL LANTERN         6   \n",
       "2  536365    84406B       CREAM CUPID HEARTS COAT HANGER         8   \n",
       "3  536365    84029G  KNITTED UNION FLAG HOT WATER BOTTLE         6   \n",
       "4  536365    84029E       RED WOOLLY HOTTIE WHITE HEART.         6   \n",
       "\n",
       "          invoicedate  price  customer_id         country  \n",
       "0 2010-12-01 08:26:00   2.55      17850.0  United Kingdom  \n",
       "1 2010-12-01 08:26:00   3.39      17850.0  United Kingdom  \n",
       "2 2010-12-01 08:26:00   2.75      17850.0  United Kingdom  \n",
       "3 2010-12-01 08:26:00   3.39      17850.0  United Kingdom  \n",
       "4 2010-12-01 08:26:00   3.39      17850.0  United Kingdom  "
      ]
     },
     "execution_count": 6,
     "metadata": {},
     "output_type": "execute_result"
    }
   ],
   "source": [
    "df.head()"
   ]
  },
  {
   "cell_type": "code",
   "execution_count": 7,
   "id": "b10f5d68-5755-433b-af0c-9a2e3e1c69e1",
   "metadata": {},
   "outputs": [
    {
     "name": "stdout",
     "output_type": "stream",
     "text": [
      "<class 'pandas.core.frame.DataFrame'>\n",
      "RangeIndex: 541910 entries, 0 to 541909\n",
      "Data columns (total 8 columns):\n",
      " #   Column       Non-Null Count   Dtype         \n",
      "---  ------       --------------   -----         \n",
      " 0   invoice      541910 non-null  object        \n",
      " 1   stockcode    541910 non-null  object        \n",
      " 2   description  540456 non-null  object        \n",
      " 3   quantity     541910 non-null  int64         \n",
      " 4   invoicedate  541910 non-null  datetime64[ns]\n",
      " 5   price        541910 non-null  float64       \n",
      " 6   customer_id  406830 non-null  float64       \n",
      " 7   country      541910 non-null  object        \n",
      "dtypes: datetime64[ns](1), float64(2), int64(1), object(4)\n",
      "memory usage: 126.2 MB\n"
     ]
    }
   ],
   "source": [
    "# DataFrame sizes, types and memory usage\n",
    "df.info(memory_usage=\"deep\")"
   ]
  },
  {
   "cell_type": "code",
   "execution_count": 8,
   "id": "44187266-ced8-4f9f-8947-5f472670ece5",
   "metadata": {},
   "outputs": [
    {
     "data": {
      "text/html": [
       "<div>\n",
       "<style scoped>\n",
       "    .dataframe tbody tr th:only-of-type {\n",
       "        vertical-align: middle;\n",
       "    }\n",
       "\n",
       "    .dataframe tbody tr th {\n",
       "        vertical-align: top;\n",
       "    }\n",
       "\n",
       "    .dataframe thead th {\n",
       "        text-align: right;\n",
       "    }\n",
       "</style>\n",
       "<table border=\"1\" class=\"dataframe\">\n",
       "  <thead>\n",
       "    <tr style=\"text-align: right;\">\n",
       "      <th></th>\n",
       "      <th>count</th>\n",
       "      <th>unique</th>\n",
       "      <th>top</th>\n",
       "      <th>freq</th>\n",
       "      <th>mean</th>\n",
       "      <th>min</th>\n",
       "      <th>25%</th>\n",
       "      <th>50%</th>\n",
       "      <th>75%</th>\n",
       "      <th>max</th>\n",
       "      <th>std</th>\n",
       "    </tr>\n",
       "  </thead>\n",
       "  <tbody>\n",
       "    <tr>\n",
       "      <th>invoice</th>\n",
       "      <td>541910.0</td>\n",
       "      <td>25900.0</td>\n",
       "      <td>573585.0</td>\n",
       "      <td>1114.0</td>\n",
       "      <td>NaN</td>\n",
       "      <td>NaN</td>\n",
       "      <td>NaN</td>\n",
       "      <td>NaN</td>\n",
       "      <td>NaN</td>\n",
       "      <td>NaN</td>\n",
       "      <td>NaN</td>\n",
       "    </tr>\n",
       "    <tr>\n",
       "      <th>stockcode</th>\n",
       "      <td>541910</td>\n",
       "      <td>4070</td>\n",
       "      <td>85123A</td>\n",
       "      <td>2313</td>\n",
       "      <td>NaN</td>\n",
       "      <td>NaN</td>\n",
       "      <td>NaN</td>\n",
       "      <td>NaN</td>\n",
       "      <td>NaN</td>\n",
       "      <td>NaN</td>\n",
       "      <td>NaN</td>\n",
       "    </tr>\n",
       "    <tr>\n",
       "      <th>description</th>\n",
       "      <td>540456</td>\n",
       "      <td>4223</td>\n",
       "      <td>WHITE HANGING HEART T-LIGHT HOLDER</td>\n",
       "      <td>2369</td>\n",
       "      <td>NaN</td>\n",
       "      <td>NaN</td>\n",
       "      <td>NaN</td>\n",
       "      <td>NaN</td>\n",
       "      <td>NaN</td>\n",
       "      <td>NaN</td>\n",
       "      <td>NaN</td>\n",
       "    </tr>\n",
       "    <tr>\n",
       "      <th>quantity</th>\n",
       "      <td>541910.0</td>\n",
       "      <td>NaN</td>\n",
       "      <td>NaN</td>\n",
       "      <td>NaN</td>\n",
       "      <td>9.552234</td>\n",
       "      <td>-80995.0</td>\n",
       "      <td>1.0</td>\n",
       "      <td>3.0</td>\n",
       "      <td>10.0</td>\n",
       "      <td>80995.0</td>\n",
       "      <td>218.080957</td>\n",
       "    </tr>\n",
       "    <tr>\n",
       "      <th>invoicedate</th>\n",
       "      <td>541910</td>\n",
       "      <td>NaN</td>\n",
       "      <td>NaN</td>\n",
       "      <td>NaN</td>\n",
       "      <td>2011-07-04 13:35:22.342307584</td>\n",
       "      <td>2010-12-01 08:26:00</td>\n",
       "      <td>2011-03-28 11:34:00</td>\n",
       "      <td>2011-07-19 17:17:00</td>\n",
       "      <td>2011-10-19 11:27:00</td>\n",
       "      <td>2011-12-09 12:50:00</td>\n",
       "      <td>NaN</td>\n",
       "    </tr>\n",
       "    <tr>\n",
       "      <th>price</th>\n",
       "      <td>541910.0</td>\n",
       "      <td>NaN</td>\n",
       "      <td>NaN</td>\n",
       "      <td>NaN</td>\n",
       "      <td>4.611138</td>\n",
       "      <td>-11062.06</td>\n",
       "      <td>1.25</td>\n",
       "      <td>2.08</td>\n",
       "      <td>4.13</td>\n",
       "      <td>38970.0</td>\n",
       "      <td>96.759765</td>\n",
       "    </tr>\n",
       "    <tr>\n",
       "      <th>customer_id</th>\n",
       "      <td>406830.0</td>\n",
       "      <td>NaN</td>\n",
       "      <td>NaN</td>\n",
       "      <td>NaN</td>\n",
       "      <td>15287.68416</td>\n",
       "      <td>12346.0</td>\n",
       "      <td>13953.0</td>\n",
       "      <td>15152.0</td>\n",
       "      <td>16791.0</td>\n",
       "      <td>18287.0</td>\n",
       "      <td>1713.603074</td>\n",
       "    </tr>\n",
       "    <tr>\n",
       "      <th>country</th>\n",
       "      <td>541910</td>\n",
       "      <td>38</td>\n",
       "      <td>United Kingdom</td>\n",
       "      <td>495478</td>\n",
       "      <td>NaN</td>\n",
       "      <td>NaN</td>\n",
       "      <td>NaN</td>\n",
       "      <td>NaN</td>\n",
       "      <td>NaN</td>\n",
       "      <td>NaN</td>\n",
       "      <td>NaN</td>\n",
       "    </tr>\n",
       "  </tbody>\n",
       "</table>\n",
       "</div>"
      ],
      "text/plain": [
       "                count   unique                                 top    freq  \\\n",
       "invoice      541910.0  25900.0                            573585.0  1114.0   \n",
       "stockcode      541910     4070                              85123A    2313   \n",
       "description    540456     4223  WHITE HANGING HEART T-LIGHT HOLDER    2369   \n",
       "quantity     541910.0      NaN                                 NaN     NaN   \n",
       "invoicedate    541910      NaN                                 NaN     NaN   \n",
       "price        541910.0      NaN                                 NaN     NaN   \n",
       "customer_id  406830.0      NaN                                 NaN     NaN   \n",
       "country        541910       38                      United Kingdom  495478   \n",
       "\n",
       "                                      mean                  min  \\\n",
       "invoice                                NaN                  NaN   \n",
       "stockcode                              NaN                  NaN   \n",
       "description                            NaN                  NaN   \n",
       "quantity                          9.552234             -80995.0   \n",
       "invoicedate  2011-07-04 13:35:22.342307584  2010-12-01 08:26:00   \n",
       "price                             4.611138            -11062.06   \n",
       "customer_id                    15287.68416              12346.0   \n",
       "country                                NaN                  NaN   \n",
       "\n",
       "                             25%                  50%                  75%  \\\n",
       "invoice                      NaN                  NaN                  NaN   \n",
       "stockcode                    NaN                  NaN                  NaN   \n",
       "description                  NaN                  NaN                  NaN   \n",
       "quantity                     1.0                  3.0                 10.0   \n",
       "invoicedate  2011-03-28 11:34:00  2011-07-19 17:17:00  2011-10-19 11:27:00   \n",
       "price                       1.25                 2.08                 4.13   \n",
       "customer_id              13953.0              15152.0              16791.0   \n",
       "country                      NaN                  NaN                  NaN   \n",
       "\n",
       "                             max          std  \n",
       "invoice                      NaN          NaN  \n",
       "stockcode                    NaN          NaN  \n",
       "description                  NaN          NaN  \n",
       "quantity                 80995.0   218.080957  \n",
       "invoicedate  2011-12-09 12:50:00          NaN  \n",
       "price                    38970.0    96.759765  \n",
       "customer_id              18287.0  1713.603074  \n",
       "country                      NaN          NaN  "
      ]
     },
     "execution_count": 8,
     "metadata": {},
     "output_type": "execute_result"
    }
   ],
   "source": [
    "# Summary statistics (numerical and categorical)\n",
    "df.describe(include=\"all\").T"
   ]
  },
  {
   "cell_type": "code",
   "execution_count": 109,
   "id": "b1693405-284a-4c63-bb95-5529cdbc5519",
   "metadata": {},
   "outputs": [],
   "source": [
    "# Variable Name Editing (Remove lead/trail spaces, convert all to lower case)\n",
    "df.columns = (\n",
    "    df.columns\n",
    "        .str.strip()\n",
    "        .str.lower()\n",
    "        .str.replace(\" \", \"_\")            # Boşlukları alt çizgiye çevir\n",
    "        .str.replace(r\"[^\\w_]\", \"\", regex=True)  # Remove all but alphanumeric and _\n",
    ")\n"
   ]
  },
  {
   "cell_type": "code",
   "execution_count": 110,
   "id": "1d88b74a-d2ba-4828-940d-79a4abbe1b92",
   "metadata": {},
   "outputs": [],
   "source": [
    "df = df.rename(columns={\n",
    "    \"stockcode\":    \"stock_code\",\n",
    "    \"price\":    \"unit_price\",\n",
    "    \"invoicedate\":  \"invoice_date\"\n",
    "})"
   ]
  },
  {
   "cell_type": "code",
   "execution_count": 111,
   "id": "7006b112-3509-45a9-b040-beb28ec599dc",
   "metadata": {},
   "outputs": [
    {
     "data": {
      "text/html": [
       "<div>\n",
       "<style scoped>\n",
       "    .dataframe tbody tr th:only-of-type {\n",
       "        vertical-align: middle;\n",
       "    }\n",
       "\n",
       "    .dataframe tbody tr th {\n",
       "        vertical-align: top;\n",
       "    }\n",
       "\n",
       "    .dataframe thead th {\n",
       "        text-align: right;\n",
       "    }\n",
       "</style>\n",
       "<table border=\"1\" class=\"dataframe\">\n",
       "  <thead>\n",
       "    <tr style=\"text-align: right;\">\n",
       "      <th></th>\n",
       "      <th>invoice</th>\n",
       "      <th>stock_code</th>\n",
       "      <th>description</th>\n",
       "      <th>quantity</th>\n",
       "      <th>invoice_date</th>\n",
       "      <th>unit_price</th>\n",
       "      <th>customer_id</th>\n",
       "      <th>country</th>\n",
       "    </tr>\n",
       "  </thead>\n",
       "  <tbody>\n",
       "    <tr>\n",
       "      <th>0</th>\n",
       "      <td>536365</td>\n",
       "      <td>85123A</td>\n",
       "      <td>WHITE HANGING HEART T-LIGHT HOLDER</td>\n",
       "      <td>6</td>\n",
       "      <td>2010-12-01 08:26:00</td>\n",
       "      <td>2.55</td>\n",
       "      <td>17850.0</td>\n",
       "      <td>United Kingdom</td>\n",
       "    </tr>\n",
       "    <tr>\n",
       "      <th>1</th>\n",
       "      <td>536365</td>\n",
       "      <td>71053</td>\n",
       "      <td>WHITE METAL LANTERN</td>\n",
       "      <td>6</td>\n",
       "      <td>2010-12-01 08:26:00</td>\n",
       "      <td>3.39</td>\n",
       "      <td>17850.0</td>\n",
       "      <td>United Kingdom</td>\n",
       "    </tr>\n",
       "    <tr>\n",
       "      <th>2</th>\n",
       "      <td>536365</td>\n",
       "      <td>84406B</td>\n",
       "      <td>CREAM CUPID HEARTS COAT HANGER</td>\n",
       "      <td>8</td>\n",
       "      <td>2010-12-01 08:26:00</td>\n",
       "      <td>2.75</td>\n",
       "      <td>17850.0</td>\n",
       "      <td>United Kingdom</td>\n",
       "    </tr>\n",
       "    <tr>\n",
       "      <th>3</th>\n",
       "      <td>536365</td>\n",
       "      <td>84029G</td>\n",
       "      <td>KNITTED UNION FLAG HOT WATER BOTTLE</td>\n",
       "      <td>6</td>\n",
       "      <td>2010-12-01 08:26:00</td>\n",
       "      <td>3.39</td>\n",
       "      <td>17850.0</td>\n",
       "      <td>United Kingdom</td>\n",
       "    </tr>\n",
       "    <tr>\n",
       "      <th>4</th>\n",
       "      <td>536365</td>\n",
       "      <td>84029E</td>\n",
       "      <td>RED WOOLLY HOTTIE WHITE HEART.</td>\n",
       "      <td>6</td>\n",
       "      <td>2010-12-01 08:26:00</td>\n",
       "      <td>3.39</td>\n",
       "      <td>17850.0</td>\n",
       "      <td>United Kingdom</td>\n",
       "    </tr>\n",
       "  </tbody>\n",
       "</table>\n",
       "</div>"
      ],
      "text/plain": [
       "  invoice stock_code                          description  quantity  \\\n",
       "0  536365     85123A   WHITE HANGING HEART T-LIGHT HOLDER         6   \n",
       "1  536365      71053                  WHITE METAL LANTERN         6   \n",
       "2  536365     84406B       CREAM CUPID HEARTS COAT HANGER         8   \n",
       "3  536365     84029G  KNITTED UNION FLAG HOT WATER BOTTLE         6   \n",
       "4  536365     84029E       RED WOOLLY HOTTIE WHITE HEART.         6   \n",
       "\n",
       "         invoice_date  unit_price  customer_id         country  \n",
       "0 2010-12-01 08:26:00        2.55      17850.0  United Kingdom  \n",
       "1 2010-12-01 08:26:00        3.39      17850.0  United Kingdom  \n",
       "2 2010-12-01 08:26:00        2.75      17850.0  United Kingdom  \n",
       "3 2010-12-01 08:26:00        3.39      17850.0  United Kingdom  \n",
       "4 2010-12-01 08:26:00        3.39      17850.0  United Kingdom  "
      ]
     },
     "execution_count": 111,
     "metadata": {},
     "output_type": "execute_result"
    }
   ],
   "source": [
    "df.head()"
   ]
  },
  {
   "cell_type": "markdown",
   "id": "ca63ae3c-086f-47c3-b124-4416d2468172",
   "metadata": {},
   "source": [
    "## Separating Germany Customers"
   ]
  },
  {
   "cell_type": "code",
   "execution_count": 112,
   "id": "25e541df-cde6-4ab0-b019-b8a71b7373c7",
   "metadata": {},
   "outputs": [
    {
     "name": "stdout",
     "output_type": "stream",
     "text": [
      "row count: 9495\n"
     ]
    }
   ],
   "source": [
    "df_germany = df[ df[\"country\"] == \"Germany\" ].copy()\n",
    "print(\"row count:\", df_germany.shape[0])"
   ]
  },
  {
   "cell_type": "markdown",
   "id": "443292e9-226d-4bcd-85e5-3b3393b6e978",
   "metadata": {},
   "source": [
    "## Missing Value Analysis"
   ]
  },
  {
   "cell_type": "code",
   "execution_count": 113,
   "id": "a7ae0f05-64c1-4a1d-b5db-165477ca650e",
   "metadata": {},
   "outputs": [
    {
     "data": {
      "text/plain": [
       "invoice         0\n",
       "stock_code      0\n",
       "description     0\n",
       "quantity        0\n",
       "invoice_date    0\n",
       "unit_price      0\n",
       "customer_id     0\n",
       "country         0\n",
       "dtype: int64"
      ]
     },
     "execution_count": 113,
     "metadata": {},
     "output_type": "execute_result"
    }
   ],
   "source": [
    "# Missing Value Analysis\n",
    "df_germany.isna().sum()"
   ]
  },
  {
   "cell_type": "markdown",
   "id": "8a1f54bf-16bd-4c30-bfce-c05b32b743f9",
   "metadata": {},
   "source": [
    "## Duplicate Records & Anomalies"
   ]
  },
  {
   "cell_type": "code",
   "execution_count": 114,
   "id": "ee38c8ef-88d1-4ee8-8c79-556cd941f755",
   "metadata": {},
   "outputs": [
    {
     "name": "stdout",
     "output_type": "stream",
     "text": [
      "15\n"
     ]
    }
   ],
   "source": [
    "# Duplicate Records\n",
    "dups = df_germany.duplicated()\n",
    "print(dups.sum())"
   ]
  },
  {
   "cell_type": "code",
   "execution_count": 115,
   "id": "aa1fd26d-269a-49a5-8fb9-bb9a23d27fcf",
   "metadata": {},
   "outputs": [
    {
     "name": "stdout",
     "output_type": "stream",
     "text": [
      "Dropped row (dup in all columns): 15\n"
     ]
    }
   ],
   "source": [
    "before_dup = df_germany.shape[0]\n",
    "df_germany = df_germany.drop_duplicates(keep=\"first\")\n",
    "after_dup = df_germany.shape[0]\n",
    "\n",
    "print(f\"Dropped row (dup in all columns): {before_dup - after_dup}\")"
   ]
  },
  {
   "cell_type": "code",
   "execution_count": 116,
   "id": "dadca0af-14a6-48b3-8e46-23d852821390",
   "metadata": {},
   "outputs": [
    {
     "data": {
      "text/plain": [
       "(np.int64(453), np.int64(2))"
      ]
     },
     "execution_count": 116,
     "metadata": {},
     "output_type": "execute_result"
    }
   ],
   "source": [
    "# Anomalies\n",
    "(df_germany[\"quantity\"] <= 0).sum(), (df_germany[\"unit_price\"] <= 0).sum()"
   ]
  },
  {
   "cell_type": "code",
   "execution_count": 117,
   "id": "df550999-02d6-45d5-ace2-ba4b68c2faf6",
   "metadata": {},
   "outputs": [],
   "source": [
    "#### Aşağıdaki hücreyi ekleyip, “C” içeren (iptal edilmiş) faturaları inceleyebilirsin:"
   ]
  },
  {
   "cell_type": "code",
   "execution_count": 121,
   "id": "8fe921d7-087b-42fb-8177-4fc794ebfabe",
   "metadata": {},
   "outputs": [
    {
     "name": "stdout",
     "output_type": "stream",
     "text": [
      "İptal satır sayısı: 453\n",
      "Farklı iptal edilen InvoiceNo sayısı: 146\n"
     ]
    },
    {
     "data": {
      "text/html": [
       "<div>\n",
       "<style scoped>\n",
       "    .dataframe tbody tr th:only-of-type {\n",
       "        vertical-align: middle;\n",
       "    }\n",
       "\n",
       "    .dataframe tbody tr th {\n",
       "        vertical-align: top;\n",
       "    }\n",
       "\n",
       "    .dataframe thead th {\n",
       "        text-align: right;\n",
       "    }\n",
       "</style>\n",
       "<table border=\"1\" class=\"dataframe\">\n",
       "  <thead>\n",
       "    <tr style=\"text-align: right;\">\n",
       "      <th></th>\n",
       "      <th>invoice</th>\n",
       "      <th>stock_code</th>\n",
       "      <th>description</th>\n",
       "      <th>quantity</th>\n",
       "      <th>invoice_date</th>\n",
       "      <th>unit_price</th>\n",
       "      <th>customer_id</th>\n",
       "      <th>country</th>\n",
       "    </tr>\n",
       "  </thead>\n",
       "  <tbody>\n",
       "    <tr>\n",
       "      <th>1971</th>\n",
       "      <td>C536548</td>\n",
       "      <td>22244</td>\n",
       "      <td>3 HOOK HANGER MAGIC GARDEN</td>\n",
       "      <td>-4</td>\n",
       "      <td>2010-12-01 14:33:00</td>\n",
       "      <td>1.95</td>\n",
       "      <td>12472.0</td>\n",
       "      <td>Germany</td>\n",
       "    </tr>\n",
       "    <tr>\n",
       "      <th>1972</th>\n",
       "      <td>C536548</td>\n",
       "      <td>22242</td>\n",
       "      <td>5 HOOK HANGER MAGIC TOADSTOOL</td>\n",
       "      <td>-5</td>\n",
       "      <td>2010-12-01 14:33:00</td>\n",
       "      <td>1.65</td>\n",
       "      <td>12472.0</td>\n",
       "      <td>Germany</td>\n",
       "    </tr>\n",
       "    <tr>\n",
       "      <th>1973</th>\n",
       "      <td>C536548</td>\n",
       "      <td>20914</td>\n",
       "      <td>SET/5 RED RETROSPOT LID GLASS BOWLS</td>\n",
       "      <td>-1</td>\n",
       "      <td>2010-12-01 14:33:00</td>\n",
       "      <td>2.95</td>\n",
       "      <td>12472.0</td>\n",
       "      <td>Germany</td>\n",
       "    </tr>\n",
       "    <tr>\n",
       "      <th>1974</th>\n",
       "      <td>C536548</td>\n",
       "      <td>22892</td>\n",
       "      <td>SET OF SALT AND PEPPER TOADSTOOLS</td>\n",
       "      <td>-7</td>\n",
       "      <td>2010-12-01 14:33:00</td>\n",
       "      <td>1.25</td>\n",
       "      <td>12472.0</td>\n",
       "      <td>Germany</td>\n",
       "    </tr>\n",
       "    <tr>\n",
       "      <th>1975</th>\n",
       "      <td>C536548</td>\n",
       "      <td>22654</td>\n",
       "      <td>DELUXE SEWING KIT</td>\n",
       "      <td>-1</td>\n",
       "      <td>2010-12-01 14:33:00</td>\n",
       "      <td>5.95</td>\n",
       "      <td>12472.0</td>\n",
       "      <td>Germany</td>\n",
       "    </tr>\n",
       "  </tbody>\n",
       "</table>\n",
       "</div>"
      ],
      "text/plain": [
       "      invoice stock_code                          description  quantity  \\\n",
       "1971  C536548      22244           3 HOOK HANGER MAGIC GARDEN        -4   \n",
       "1972  C536548      22242        5 HOOK HANGER MAGIC TOADSTOOL        -5   \n",
       "1973  C536548      20914  SET/5 RED RETROSPOT LID GLASS BOWLS        -1   \n",
       "1974  C536548      22892    SET OF SALT AND PEPPER TOADSTOOLS        -7   \n",
       "1975  C536548      22654                   DELUXE SEWING KIT         -1   \n",
       "\n",
       "            invoice_date  unit_price  customer_id  country  \n",
       "1971 2010-12-01 14:33:00        1.95      12472.0  Germany  \n",
       "1972 2010-12-01 14:33:00        1.65      12472.0  Germany  \n",
       "1973 2010-12-01 14:33:00        2.95      12472.0  Germany  \n",
       "1974 2010-12-01 14:33:00        1.25      12472.0  Germany  \n",
       "1975 2010-12-01 14:33:00        5.95      12472.0  Germany  "
      ]
     },
     "execution_count": 121,
     "metadata": {},
     "output_type": "execute_result"
    }
   ],
   "source": [
    "mask_cancel = df_germany[\"invoice\"].str.contains(\"^C\", na=False)\n",
    "df_cancel = df_germany[mask_cancel].copy()\n",
    "\n",
    "# Kaç satır, kaç farklı fatura?\n",
    "print(f\"İptal satır sayısı: {mask_cancel.sum()}\")\n",
    "print(f\"Farklı iptal edilen InvoiceNo sayısı: {df_cancel['invoice'].nunique()}\")\n",
    "\n",
    "# Örnek 5 satır\n",
    "df_cancel.head()"
   ]
  },
  {
   "cell_type": "code",
   "execution_count": 122,
   "id": "96aa48c3-4491-4a23-8bdd-3eb8f5f69f1e",
   "metadata": {},
   "outputs": [
    {
     "name": "stdout",
     "output_type": "stream",
     "text": [
      "Temizlenmiş veri (iptaller çıkarıldı) boyutu: (9027, 8)\n"
     ]
    }
   ],
   "source": [
    "df_germany = df_germany[~mask_cancel].reset_index(drop=True)\n",
    "print(f\"Temizlenmiş veri (iptaller çıkarıldı) boyutu: {df_germany.shape}\")"
   ]
  },
  {
   "cell_type": "code",
   "execution_count": 123,
   "id": "120f2a7c-55ce-484b-94bb-667c60f56388",
   "metadata": {},
   "outputs": [
    {
     "name": "stdout",
     "output_type": "stream",
     "text": [
      "Falling line (anomalies): 2\n"
     ]
    }
   ],
   "source": [
    "# discard quantity and unit_price 0 or negative\n",
    "mask = (df_germany[\"quantity\"] > 0) & (df_germany[\"unit_price\"] > 0)\n",
    "before_anom = df_germany.shape[0]\n",
    "df_germany = df_germany[mask].copy()\n",
    "after_anom = df_germany.shape[0]\n",
    "\n",
    "print(f\"Falling line (anomalies): {before_anom - after_anom}\")"
   ]
  },
  {
   "cell_type": "code",
   "execution_count": 124,
   "id": "f3e86eb9-11d6-4b8f-bdce-c2c8a8693500",
   "metadata": {},
   "outputs": [
    {
     "data": {
      "text/html": [
       "<div>\n",
       "<style scoped>\n",
       "    .dataframe tbody tr th:only-of-type {\n",
       "        vertical-align: middle;\n",
       "    }\n",
       "\n",
       "    .dataframe tbody tr th {\n",
       "        vertical-align: top;\n",
       "    }\n",
       "\n",
       "    .dataframe thead th {\n",
       "        text-align: right;\n",
       "    }\n",
       "</style>\n",
       "<table border=\"1\" class=\"dataframe\">\n",
       "  <thead>\n",
       "    <tr style=\"text-align: right;\">\n",
       "      <th></th>\n",
       "      <th>invoice</th>\n",
       "      <th>stock_code</th>\n",
       "      <th>description</th>\n",
       "      <th>quantity</th>\n",
       "      <th>invoice_date</th>\n",
       "      <th>unit_price</th>\n",
       "      <th>customer_id</th>\n",
       "      <th>country</th>\n",
       "    </tr>\n",
       "  </thead>\n",
       "  <tbody>\n",
       "    <tr>\n",
       "      <th>0</th>\n",
       "      <td>536527</td>\n",
       "      <td>22809</td>\n",
       "      <td>SET OF 6 T-LIGHTS SANTA</td>\n",
       "      <td>6</td>\n",
       "      <td>2010-12-01 13:04:00</td>\n",
       "      <td>2.95</td>\n",
       "      <td>12662.0</td>\n",
       "      <td>Germany</td>\n",
       "    </tr>\n",
       "    <tr>\n",
       "      <th>1</th>\n",
       "      <td>536527</td>\n",
       "      <td>84347</td>\n",
       "      <td>ROTATING SILVER ANGELS T-LIGHT HLDR</td>\n",
       "      <td>6</td>\n",
       "      <td>2010-12-01 13:04:00</td>\n",
       "      <td>2.55</td>\n",
       "      <td>12662.0</td>\n",
       "      <td>Germany</td>\n",
       "    </tr>\n",
       "    <tr>\n",
       "      <th>2</th>\n",
       "      <td>536527</td>\n",
       "      <td>84945</td>\n",
       "      <td>MULTI COLOUR SILVER T-LIGHT HOLDER</td>\n",
       "      <td>12</td>\n",
       "      <td>2010-12-01 13:04:00</td>\n",
       "      <td>0.85</td>\n",
       "      <td>12662.0</td>\n",
       "      <td>Germany</td>\n",
       "    </tr>\n",
       "    <tr>\n",
       "      <th>3</th>\n",
       "      <td>536527</td>\n",
       "      <td>22242</td>\n",
       "      <td>5 HOOK HANGER MAGIC TOADSTOOL</td>\n",
       "      <td>12</td>\n",
       "      <td>2010-12-01 13:04:00</td>\n",
       "      <td>1.65</td>\n",
       "      <td>12662.0</td>\n",
       "      <td>Germany</td>\n",
       "    </tr>\n",
       "    <tr>\n",
       "      <th>4</th>\n",
       "      <td>536527</td>\n",
       "      <td>22244</td>\n",
       "      <td>3 HOOK HANGER MAGIC GARDEN</td>\n",
       "      <td>12</td>\n",
       "      <td>2010-12-01 13:04:00</td>\n",
       "      <td>1.95</td>\n",
       "      <td>12662.0</td>\n",
       "      <td>Germany</td>\n",
       "    </tr>\n",
       "  </tbody>\n",
       "</table>\n",
       "</div>"
      ],
      "text/plain": [
       "  invoice stock_code                          description  quantity  \\\n",
       "0  536527      22809              SET OF 6 T-LIGHTS SANTA         6   \n",
       "1  536527      84347  ROTATING SILVER ANGELS T-LIGHT HLDR         6   \n",
       "2  536527      84945   MULTI COLOUR SILVER T-LIGHT HOLDER        12   \n",
       "3  536527      22242        5 HOOK HANGER MAGIC TOADSTOOL        12   \n",
       "4  536527      22244           3 HOOK HANGER MAGIC GARDEN        12   \n",
       "\n",
       "         invoice_date  unit_price  customer_id  country  \n",
       "0 2010-12-01 13:04:00        2.95      12662.0  Germany  \n",
       "1 2010-12-01 13:04:00        2.55      12662.0  Germany  \n",
       "2 2010-12-01 13:04:00        0.85      12662.0  Germany  \n",
       "3 2010-12-01 13:04:00        1.65      12662.0  Germany  \n",
       "4 2010-12-01 13:04:00        1.95      12662.0  Germany  "
      ]
     },
     "execution_count": 124,
     "metadata": {},
     "output_type": "execute_result"
    }
   ],
   "source": [
    "df_germany.head()"
   ]
  },
  {
   "cell_type": "markdown",
   "id": "bfc8a329-5552-48b5-8b09-99460e619a6a",
   "metadata": {},
   "source": [
    "## Categorical Variable Analysis"
   ]
  },
  {
   "cell_type": "code",
   "execution_count": 125,
   "id": "0e2f3bbb-48f3-4801-8616-43d303eed5cd",
   "metadata": {},
   "outputs": [
    {
     "name": "stdout",
     "output_type": "stream",
     "text": [
      "invoice 457\n",
      "stock_code 1664\n",
      "description 1696\n",
      "customer_id 94\n"
     ]
    }
   ],
   "source": [
    "for col in [\"invoice\",\"stock_code\",\"description\",\"customer_id\"]:\n",
    "    print(col, df_germany[col].nunique())"
   ]
  },
  {
   "cell_type": "code",
   "execution_count": 126,
   "id": "3ef8d069-b3e1-4ae8-a413-c9d47031b502",
   "metadata": {},
   "outputs": [
    {
     "name": "stdout",
     "output_type": "stream",
     "text": [
      "stock_code\n",
      "POST     374\n",
      "22326    112\n",
      "22328     72\n",
      "22554     63\n",
      "22423     63\n",
      "20719     58\n",
      "22556     53\n",
      "22551     49\n",
      "22629     47\n",
      "22077     47\n",
      "Name: count, dtype: int64\n"
     ]
    }
   ],
   "source": [
    "# Top 10 most common product\n",
    "print(df_germany[\"stock_code\"].value_counts().head(10))"
   ]
  },
  {
   "cell_type": "code",
   "execution_count": 127,
   "id": "101c8dd4-4734-4d98-977a-bcfc58211935",
   "metadata": {},
   "outputs": [],
   "source": [
    "df_germany = df_germany[ df_germany[\"stock_code\"].str.upper() != \"POST\" ].copy()"
   ]
  },
  {
   "cell_type": "code",
   "execution_count": 128,
   "id": "76a1bef5-4475-4f9d-b477-e7d23246c2a6",
   "metadata": {},
   "outputs": [
    {
     "name": "stdout",
     "output_type": "stream",
     "text": [
      "stock_code\n",
      "22326    112\n",
      "22328     72\n",
      "22423     63\n",
      "22554     63\n",
      "20719     58\n",
      "22556     53\n",
      "22551     49\n",
      "22077     47\n",
      "22629     47\n",
      "20712     46\n",
      "Name: count, dtype: int64\n"
     ]
    }
   ],
   "source": [
    "print(df_germany[\"stock_code\"].value_counts().head(10))"
   ]
  },
  {
   "cell_type": "markdown",
   "id": "ee94245f-e658-4581-ae46-557afdc05d5e",
   "metadata": {},
   "source": [
    "## Numerical Distributions and Outliers"
   ]
  },
  {
   "cell_type": "code",
   "execution_count": 129,
   "id": "c7f52422-5edb-4a07-96a5-a2e7e22be429",
   "metadata": {},
   "outputs": [
    {
     "data": {
      "text/plain": [
       "<Axes: xlabel='quantity', ylabel='Count'>"
      ]
     },
     "execution_count": 129,
     "metadata": {},
     "output_type": "execute_result"
    },
    {
     "data": {
      "image/png": "[encoded data removed]",
      "text/plain": [
       "<Figure size 640x480 with 1 Axes>"
      ]
     },
     "metadata": {},
     "output_type": "display_data"
    }
   ],
   "source": [
    "sns.histplot(df_germany[\"quantity\"], log_scale=True)\n",
    "sns.boxplot(x=df_germany[\"unit_price\"])"
   ]
  },
  {
   "cell_type": "markdown",
   "id": "c95c4494-c5f3-4ca8-b919-5ef612a21a5b",
   "metadata": {},
   "source": [
    "### Defining Outlier Threshold & Filtering "
   ]
  },
  {
   "cell_type": "code",
   "execution_count": 130,
   "id": "3551e1d5-9500-49ef-96bb-4517e7cf74ed",
   "metadata": {},
   "outputs": [
    {
     "name": "stdout",
     "output_type": "stream",
     "text": [
      "0.01     1.0\n",
      "0.99    96.0\n",
      "Name: quantity, dtype: float64\n"
     ]
    }
   ],
   "source": [
    "q_percentiles = df_germany[\"quantity\"].quantile([0.01, 0.99])\n",
    "print(q_percentiles)"
   ]
  },
  {
   "cell_type": "code",
   "execution_count": 131,
   "id": "ef9d17f7-a815-419b-91f0-4c271b1ee69d",
   "metadata": {},
   "outputs": [],
   "source": [
    "qty_upper = df_germany[\"quantity\"].quantile(0.99)\n",
    "df_clean = df_germany[df_germany[\"quantity\"] <= qty_upper].copy()"
   ]
  },
  {
   "cell_type": "code",
   "execution_count": 132,
   "id": "7b62c340-e9f0-41ef-8a23-6c9c8d34a939",
   "metadata": {},
   "outputs": [
    {
     "name": "stdout",
     "output_type": "stream",
     "text": [
      "0.01     0.21\n",
      "0.99    12.75\n",
      "Name: unit_price, dtype: float64\n"
     ]
    }
   ],
   "source": [
    "p_percentiles = df_clean[\"unit_price\"].quantile([0.01, 0.99])\n",
    "print(p_percentiles)"
   ]
  },
  {
   "cell_type": "code",
   "execution_count": 133,
   "id": "f4e60ab0-f10b-4d9b-b870-fc37630d9d15",
   "metadata": {},
   "outputs": [],
   "source": [
    "price_upper = df_clean[\"unit_price\"].quantile(0.99)\n",
    "df_clean = df_clean[df_clean[\"unit_price\"] <= price_upper].copy()"
   ]
  },
  {
   "cell_type": "code",
   "execution_count": 134,
   "id": "31cdf38a-7573-40bc-9f32-13fc977d99a1",
   "metadata": {},
   "outputs": [
    {
     "name": "stdout",
     "output_type": "stream",
     "text": [
      "Önce: (8651, 8) | Sonra: (8502, 8)\n"
     ]
    }
   ],
   "source": [
    "print(\"Önce:\", df_germany.shape, \"| Sonra:\", df_clean.shape)"
   ]
  },
  {
   "cell_type": "code",
   "execution_count": 136,
   "id": "867639d4-db1b-4557-afc8-07c9cbfbb19b",
   "metadata": {},
   "outputs": [
    {
     "name": "stdout",
     "output_type": "stream",
     "text": [
      "                           description  total_sold\n",
      "0  ROUND SNACK BOXES SET OF4 WOODLAND         1221\n",
      "1      PACK OF 72 RETROSPOT CAKE CASES        1002\n",
      "2               WOODLAND CHARLOTTE BAG         920\n",
      "3     PLASTERS IN TIN WOODLAND ANIMALS         856\n",
      "4               JAM MAKING SET PRINTED         816\n",
      "5             REGENCY CAKESTAND 3 TIER         809\n",
      "6       PLASTERS IN TIN CIRCUS PARADE          774\n",
      "7                       FUNKY DIVA PEN         768\n",
      "8               6 RIBBONS RUSTIC CHARM         735\n",
      "9        RED TOADSTOOL LED NIGHT LIGHT         728\n"
     ]
    }
   ],
   "source": [
    "top10 = (\n",
    "    df_clean\n",
    "    .groupby(\"description\")[\"quantity\"]\n",
    "    .sum()\n",
    "    .sort_values(ascending=False)\n",
    "    .head(10)\n",
    ")\n",
    "top10_df = top10.reset_index().rename(columns={\"quantity\":\"total_sold\"})\n",
    "print(top10_df)"
   ]
  },
  {
   "cell_type": "code",
   "execution_count": 137,
   "id": "90243fc1-9f34-4aca-bef7-c1529d3bed7e",
   "metadata": {},
   "outputs": [
    {
     "data": {
      "image/png": "[encoded data removed]",
      "text/plain": [
       "<Figure size 800x500 with 1 Axes>"
      ]
     },
     "metadata": {},
     "output_type": "display_data"
    }
   ],
   "source": [
    "import matplotlib.pyplot as plt\n",
    "\n",
    "plt.figure(figsize=(8,5))\n",
    "plt.barh(top10_df[\"description\"][::-1], top10_df[\"total_sold\"][::-1])\n",
    "plt.title(\"Top 10 Most Popular Products\")\n",
    "plt.xlabel(\"Total\")\n",
    "plt.tight_layout()\n",
    "plt.show()\n"
   ]
  },
  {
   "cell_type": "code",
   "execution_count": 138,
   "id": "9d043dd1-bdda-4872-b96f-099d86b2570c",
   "metadata": {},
   "outputs": [],
   "source": [
    "df_clean[\"revenue\"] = df_clean[\"quantity\"] * df_clean[\"unit_price\"]"
   ]
  },
  {
   "cell_type": "code",
   "execution_count": 139,
   "id": "78b6003d-8368-43ca-87fc-c336fe255cdd",
   "metadata": {},
   "outputs": [],
   "source": [
    "df_clean[\"date\"] = pd.to_datetime(df_clean[\"invoice_date\"].dt.date)\n",
    "daily_rev = (\n",
    "    df_clean\n",
    "    .groupby(\"date\")[\"revenue\"]\n",
    "    .sum()\n",
    "    .reset_index()\n",
    ")\n"
   ]
  },
  {
   "cell_type": "code",
   "execution_count": 140,
   "id": "5afd6e76-fd68-4297-83c9-dd9220e6f7a5",
   "metadata": {},
   "outputs": [
    {
     "data": {
      "image/png": "[encoded data removed]",
      "text/plain": [
       "<Figure size 1200x400 with 1 Axes>"
      ]
     },
     "metadata": {},
     "output_type": "display_data"
    }
   ],
   "source": [
    "plt.figure(figsize=(12,4))\n",
    "plt.plot(daily_rev[\"date\"], daily_rev[\"revenue\"], color=\"teal\")\n",
    "plt.title(\"Daily Turnover Trend\")\n",
    "plt.ylabel(\"Revenue (GBP)\")\n",
    "plt.xlabel(\"Date\")\n",
    "plt.tight_layout()\n",
    "plt.show()"
   ]
  },
  {
   "cell_type": "code",
   "execution_count": 141,
   "id": "ed04b03c-a890-4631-bbfa-898d99336281",
   "metadata": {},
   "outputs": [
    {
     "data": {
      "text/html": [
       "<div>\n",
       "<style scoped>\n",
       "    .dataframe tbody tr th:only-of-type {\n",
       "        vertical-align: middle;\n",
       "    }\n",
       "\n",
       "    .dataframe tbody tr th {\n",
       "        vertical-align: top;\n",
       "    }\n",
       "\n",
       "    .dataframe thead th {\n",
       "        text-align: right;\n",
       "    }\n",
       "</style>\n",
       "<table border=\"1\" class=\"dataframe\">\n",
       "  <thead>\n",
       "    <tr style=\"text-align: right;\">\n",
       "      <th></th>\n",
       "      <th>invoice</th>\n",
       "      <th>stock_code</th>\n",
       "      <th>description</th>\n",
       "      <th>quantity</th>\n",
       "      <th>invoice_date</th>\n",
       "      <th>unit_price</th>\n",
       "      <th>customer_id</th>\n",
       "      <th>country</th>\n",
       "      <th>revenue</th>\n",
       "      <th>date</th>\n",
       "    </tr>\n",
       "  </thead>\n",
       "  <tbody>\n",
       "    <tr>\n",
       "      <th>0</th>\n",
       "      <td>536527</td>\n",
       "      <td>22809</td>\n",
       "      <td>SET OF 6 T-LIGHTS SANTA</td>\n",
       "      <td>6</td>\n",
       "      <td>2010-12-01 13:04:00</td>\n",
       "      <td>2.95</td>\n",
       "      <td>12662.0</td>\n",
       "      <td>Germany</td>\n",
       "      <td>17.7</td>\n",
       "      <td>2010-12-01</td>\n",
       "    </tr>\n",
       "    <tr>\n",
       "      <th>1</th>\n",
       "      <td>536527</td>\n",
       "      <td>84347</td>\n",
       "      <td>ROTATING SILVER ANGELS T-LIGHT HLDR</td>\n",
       "      <td>6</td>\n",
       "      <td>2010-12-01 13:04:00</td>\n",
       "      <td>2.55</td>\n",
       "      <td>12662.0</td>\n",
       "      <td>Germany</td>\n",
       "      <td>15.3</td>\n",
       "      <td>2010-12-01</td>\n",
       "    </tr>\n",
       "    <tr>\n",
       "      <th>2</th>\n",
       "      <td>536527</td>\n",
       "      <td>84945</td>\n",
       "      <td>MULTI COLOUR SILVER T-LIGHT HOLDER</td>\n",
       "      <td>12</td>\n",
       "      <td>2010-12-01 13:04:00</td>\n",
       "      <td>0.85</td>\n",
       "      <td>12662.0</td>\n",
       "      <td>Germany</td>\n",
       "      <td>10.2</td>\n",
       "      <td>2010-12-01</td>\n",
       "    </tr>\n",
       "    <tr>\n",
       "      <th>3</th>\n",
       "      <td>536527</td>\n",
       "      <td>22242</td>\n",
       "      <td>5 HOOK HANGER MAGIC TOADSTOOL</td>\n",
       "      <td>12</td>\n",
       "      <td>2010-12-01 13:04:00</td>\n",
       "      <td>1.65</td>\n",
       "      <td>12662.0</td>\n",
       "      <td>Germany</td>\n",
       "      <td>19.8</td>\n",
       "      <td>2010-12-01</td>\n",
       "    </tr>\n",
       "    <tr>\n",
       "      <th>4</th>\n",
       "      <td>536527</td>\n",
       "      <td>22244</td>\n",
       "      <td>3 HOOK HANGER MAGIC GARDEN</td>\n",
       "      <td>12</td>\n",
       "      <td>2010-12-01 13:04:00</td>\n",
       "      <td>1.95</td>\n",
       "      <td>12662.0</td>\n",
       "      <td>Germany</td>\n",
       "      <td>23.4</td>\n",
       "      <td>2010-12-01</td>\n",
       "    </tr>\n",
       "  </tbody>\n",
       "</table>\n",
       "</div>"
      ],
      "text/plain": [
       "  invoice stock_code                          description  quantity  \\\n",
       "0  536527      22809              SET OF 6 T-LIGHTS SANTA         6   \n",
       "1  536527      84347  ROTATING SILVER ANGELS T-LIGHT HLDR         6   \n",
       "2  536527      84945   MULTI COLOUR SILVER T-LIGHT HOLDER        12   \n",
       "3  536527      22242        5 HOOK HANGER MAGIC TOADSTOOL        12   \n",
       "4  536527      22244           3 HOOK HANGER MAGIC GARDEN        12   \n",
       "\n",
       "         invoice_date  unit_price  customer_id  country  revenue       date  \n",
       "0 2010-12-01 13:04:00        2.95      12662.0  Germany     17.7 2010-12-01  \n",
       "1 2010-12-01 13:04:00        2.55      12662.0  Germany     15.3 2010-12-01  \n",
       "2 2010-12-01 13:04:00        0.85      12662.0  Germany     10.2 2010-12-01  \n",
       "3 2010-12-01 13:04:00        1.65      12662.0  Germany     19.8 2010-12-01  \n",
       "4 2010-12-01 13:04:00        1.95      12662.0  Germany     23.4 2010-12-01  "
      ]
     },
     "execution_count": 141,
     "metadata": {},
     "output_type": "execute_result"
    }
   ],
   "source": [
    "df_clean.head()"
   ]
  },
  {
   "cell_type": "code",
   "execution_count": 144,
   "id": "2f93a6b7-f547-4fd1-b343-68f5703d4ba2",
   "metadata": {},
   "outputs": [],
   "source": [
    "cart = (\n",
    "    df_clean\n",
    "    .groupby([\"invoice\",\"description\"])[\"quantity\"]\n",
    "    .sum()\n",
    "    .unstack(fill_value=0)\n",
    ")"
   ]
  },
  {
   "cell_type": "code",
   "execution_count": 145,
   "id": "96c0a571-e2ec-49e9-82d6-1efd4a6c776a",
   "metadata": {},
   "outputs": [
    {
     "name": "stdout",
     "output_type": "stream",
     "text": [
      "(439, 1666)\n"
     ]
    },
    {
     "data": {
      "text/html": [
       "<div>\n",
       "<style scoped>\n",
       "    .dataframe tbody tr th:only-of-type {\n",
       "        vertical-align: middle;\n",
       "    }\n",
       "\n",
       "    .dataframe tbody tr th {\n",
       "        vertical-align: top;\n",
       "    }\n",
       "\n",
       "    .dataframe thead th {\n",
       "        text-align: right;\n",
       "    }\n",
       "</style>\n",
       "<table border=\"1\" class=\"dataframe\">\n",
       "  <thead>\n",
       "    <tr style=\"text-align: right;\">\n",
       "      <th>description</th>\n",
       "      <th>50'S CHRISTMAS GIFT BAG LARGE</th>\n",
       "      <th>DOLLY GIRL BEAKER</th>\n",
       "      <th>I LOVE LONDON MINI BACKPACK</th>\n",
       "      <th>RED SPOT GIFT BAG LARGE</th>\n",
       "      <th>SET 2 TEA TOWELS I LOVE LONDON</th>\n",
       "      <th>10 COLOUR SPACEBOY PEN</th>\n",
       "      <th>12 COLOURED PARTY BALLOONS</th>\n",
       "      <th>12 IVORY ROSE PEG PLACE SETTINGS</th>\n",
       "      <th>12 MESSAGE CARDS WITH ENVELOPES</th>\n",
       "      <th>12 PENCIL SMALL TUBE WOODLAND</th>\n",
       "      <th>...</th>\n",
       "      <th>YULETIDE IMAGES GIFT WRAP SET</th>\n",
       "      <th>ZINC  HEART T-LIGHT HOLDER</th>\n",
       "      <th>ZINC  STAR T-LIGHT HOLDER</th>\n",
       "      <th>ZINC BOX SIGN HOME</th>\n",
       "      <th>ZINC FOLKART SLEIGH BELLS</th>\n",
       "      <th>ZINC HEART LATTICE T-LIGHT HOLDER</th>\n",
       "      <th>ZINC METAL HEART DECORATION</th>\n",
       "      <th>ZINC T-LIGHT HOLDER STAR LARGE</th>\n",
       "      <th>ZINC T-LIGHT HOLDER STARS SMALL</th>\n",
       "      <th>ZINC WILLIE WINKIE  CANDLE STICK</th>\n",
       "    </tr>\n",
       "    <tr>\n",
       "      <th>invoice</th>\n",
       "      <th></th>\n",
       "      <th></th>\n",
       "      <th></th>\n",
       "      <th></th>\n",
       "      <th></th>\n",
       "      <th></th>\n",
       "      <th></th>\n",
       "      <th></th>\n",
       "      <th></th>\n",
       "      <th></th>\n",
       "      <th></th>\n",
       "      <th></th>\n",
       "      <th></th>\n",
       "      <th></th>\n",
       "      <th></th>\n",
       "      <th></th>\n",
       "      <th></th>\n",
       "      <th></th>\n",
       "      <th></th>\n",
       "      <th></th>\n",
       "      <th></th>\n",
       "    </tr>\n",
       "  </thead>\n",
       "  <tbody>\n",
       "    <tr>\n",
       "      <th>536527</th>\n",
       "      <td>0</td>\n",
       "      <td>0</td>\n",
       "      <td>0</td>\n",
       "      <td>0</td>\n",
       "      <td>0</td>\n",
       "      <td>0</td>\n",
       "      <td>0</td>\n",
       "      <td>0</td>\n",
       "      <td>0</td>\n",
       "      <td>0</td>\n",
       "      <td>...</td>\n",
       "      <td>0</td>\n",
       "      <td>0</td>\n",
       "      <td>0</td>\n",
       "      <td>0</td>\n",
       "      <td>0</td>\n",
       "      <td>0</td>\n",
       "      <td>0</td>\n",
       "      <td>0</td>\n",
       "      <td>0</td>\n",
       "      <td>0</td>\n",
       "    </tr>\n",
       "    <tr>\n",
       "      <th>536840</th>\n",
       "      <td>0</td>\n",
       "      <td>0</td>\n",
       "      <td>0</td>\n",
       "      <td>0</td>\n",
       "      <td>0</td>\n",
       "      <td>0</td>\n",
       "      <td>0</td>\n",
       "      <td>0</td>\n",
       "      <td>0</td>\n",
       "      <td>0</td>\n",
       "      <td>...</td>\n",
       "      <td>0</td>\n",
       "      <td>0</td>\n",
       "      <td>0</td>\n",
       "      <td>0</td>\n",
       "      <td>0</td>\n",
       "      <td>0</td>\n",
       "      <td>0</td>\n",
       "      <td>0</td>\n",
       "      <td>0</td>\n",
       "      <td>0</td>\n",
       "    </tr>\n",
       "    <tr>\n",
       "      <th>536861</th>\n",
       "      <td>0</td>\n",
       "      <td>0</td>\n",
       "      <td>0</td>\n",
       "      <td>0</td>\n",
       "      <td>0</td>\n",
       "      <td>0</td>\n",
       "      <td>0</td>\n",
       "      <td>0</td>\n",
       "      <td>0</td>\n",
       "      <td>0</td>\n",
       "      <td>...</td>\n",
       "      <td>0</td>\n",
       "      <td>0</td>\n",
       "      <td>0</td>\n",
       "      <td>0</td>\n",
       "      <td>0</td>\n",
       "      <td>0</td>\n",
       "      <td>0</td>\n",
       "      <td>0</td>\n",
       "      <td>0</td>\n",
       "      <td>0</td>\n",
       "    </tr>\n",
       "    <tr>\n",
       "      <th>536967</th>\n",
       "      <td>0</td>\n",
       "      <td>0</td>\n",
       "      <td>0</td>\n",
       "      <td>0</td>\n",
       "      <td>0</td>\n",
       "      <td>0</td>\n",
       "      <td>0</td>\n",
       "      <td>0</td>\n",
       "      <td>0</td>\n",
       "      <td>0</td>\n",
       "      <td>...</td>\n",
       "      <td>0</td>\n",
       "      <td>0</td>\n",
       "      <td>0</td>\n",
       "      <td>0</td>\n",
       "      <td>0</td>\n",
       "      <td>0</td>\n",
       "      <td>0</td>\n",
       "      <td>0</td>\n",
       "      <td>0</td>\n",
       "      <td>0</td>\n",
       "    </tr>\n",
       "    <tr>\n",
       "      <th>536983</th>\n",
       "      <td>0</td>\n",
       "      <td>0</td>\n",
       "      <td>0</td>\n",
       "      <td>0</td>\n",
       "      <td>0</td>\n",
       "      <td>0</td>\n",
       "      <td>0</td>\n",
       "      <td>0</td>\n",
       "      <td>0</td>\n",
       "      <td>0</td>\n",
       "      <td>...</td>\n",
       "      <td>0</td>\n",
       "      <td>0</td>\n",
       "      <td>0</td>\n",
       "      <td>0</td>\n",
       "      <td>0</td>\n",
       "      <td>0</td>\n",
       "      <td>0</td>\n",
       "      <td>0</td>\n",
       "      <td>0</td>\n",
       "      <td>0</td>\n",
       "    </tr>\n",
       "  </tbody>\n",
       "</table>\n",
       "<p>5 rows × 1666 columns</p>\n",
       "</div>"
      ],
      "text/plain": [
       "description   50'S CHRISTMAS GIFT BAG LARGE   DOLLY GIRL BEAKER  \\\n",
       "invoice                                                           \n",
       "536527                                    0                   0   \n",
       "536840                                    0                   0   \n",
       "536861                                    0                   0   \n",
       "536967                                    0                   0   \n",
       "536983                                    0                   0   \n",
       "\n",
       "description   I LOVE LONDON MINI BACKPACK   RED SPOT GIFT BAG LARGE  \\\n",
       "invoice                                                               \n",
       "536527                                  0                         0   \n",
       "536840                                  0                         0   \n",
       "536861                                  0                         0   \n",
       "536967                                  0                         0   \n",
       "536983                                  0                         0   \n",
       "\n",
       "description   SET 2 TEA TOWELS I LOVE LONDON   10 COLOUR SPACEBOY PEN  \\\n",
       "invoice                                                                 \n",
       "536527                                      0                       0   \n",
       "536840                                      0                       0   \n",
       "536861                                      0                       0   \n",
       "536967                                      0                       0   \n",
       "536983                                      0                       0   \n",
       "\n",
       "description  12 COLOURED PARTY BALLOONS  12 IVORY ROSE PEG PLACE SETTINGS  \\\n",
       "invoice                                                                     \n",
       "536527                                0                                 0   \n",
       "536840                                0                                 0   \n",
       "536861                                0                                 0   \n",
       "536967                                0                                 0   \n",
       "536983                                0                                 0   \n",
       "\n",
       "description  12 MESSAGE CARDS WITH ENVELOPES  12 PENCIL SMALL TUBE WOODLAND  \\\n",
       "invoice                                                                       \n",
       "536527                                     0                              0   \n",
       "536840                                     0                              0   \n",
       "536861                                     0                              0   \n",
       "536967                                     0                              0   \n",
       "536983                                     0                              0   \n",
       "\n",
       "description  ...  YULETIDE IMAGES GIFT WRAP SET  ZINC  HEART T-LIGHT HOLDER  \\\n",
       "invoice      ...                                                              \n",
       "536527       ...                              0                           0   \n",
       "536840       ...                              0                           0   \n",
       "536861       ...                              0                           0   \n",
       "536967       ...                              0                           0   \n",
       "536983       ...                              0                           0   \n",
       "\n",
       "description  ZINC  STAR T-LIGHT HOLDER   ZINC BOX SIGN HOME  \\\n",
       "invoice                                                       \n",
       "536527                                0                   0   \n",
       "536840                                0                   0   \n",
       "536861                                0                   0   \n",
       "536967                                0                   0   \n",
       "536983                                0                   0   \n",
       "\n",
       "description  ZINC FOLKART SLEIGH BELLS  ZINC HEART LATTICE T-LIGHT HOLDER  \\\n",
       "invoice                                                                     \n",
       "536527                               0                                  0   \n",
       "536840                               0                                  0   \n",
       "536861                               0                                  0   \n",
       "536967                               0                                  0   \n",
       "536983                               0                                  0   \n",
       "\n",
       "description  ZINC METAL HEART DECORATION  ZINC T-LIGHT HOLDER STAR LARGE  \\\n",
       "invoice                                                                    \n",
       "536527                                 0                               0   \n",
       "536840                                 0                               0   \n",
       "536861                                 0                               0   \n",
       "536967                                 0                               0   \n",
       "536983                                 0                               0   \n",
       "\n",
       "description  ZINC T-LIGHT HOLDER STARS SMALL  ZINC WILLIE WINKIE  CANDLE STICK  \n",
       "invoice                                                                         \n",
       "536527                                     0                                 0  \n",
       "536840                                     0                                 0  \n",
       "536861                                     0                                 0  \n",
       "536967                                     0                                 0  \n",
       "536983                                     0                                 0  \n",
       "\n",
       "[5 rows x 1666 columns]"
      ]
     },
     "execution_count": 145,
     "metadata": {},
     "output_type": "execute_result"
    }
   ],
   "source": [
    "print(cart.shape)\n",
    "cart.head()"
   ]
  },
  {
   "cell_type": "code",
   "execution_count": 158,
   "id": "c64d3972-1d80-4fde-b691-11b371f4ae22",
   "metadata": {},
   "outputs": [
    {
     "name": "stdout",
     "output_type": "stream",
     "text": [
      "(541910, 8)\n",
      "True\n"
     ]
    }
   ],
   "source": [
    "df_raw = load_raw_retail_data(file_path=str(ROOT/\"data\"/\"online_retail_II.xlsx\"))\n",
    "print(df_raw.shape)\n",
    "print(df_raw[\"StockCode\"].str.upper().eq(\"POST\").any())  # False dönmeli"
   ]
  },
  {
   "cell_type": "code",
   "execution_count": null,
   "id": "7e79ea6d-bf38-4ced-9c60-365738715766",
   "metadata": {},
   "outputs": [],
   "source": []
  }
 ],
 "metadata": {
  "kernelspec": {
   "display_name": "Python 3 (ipykernel)",
   "language": "python",
   "name": "python3"
  },
  "language_info": {
   "codemirror_mode": {
    "name": "ipython",
    "version": 3
   },
   "file_extension": ".py",
   "mimetype": "text/x-python",
   "name": "python",
   "nbconvert_exporter": "python",
   "pygments_lexer": "ipython3",
   "version": "3.12.11"
  }
 },
 "nbformat": 4,
 "nbformat_minor": 5
}
